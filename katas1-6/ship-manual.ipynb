{
 "cells": [
  {
   "cell_type": "markdown",
   "metadata": {},
   "source": [
    "## KATA MODULO 0"
   ]
  },
  {
   "cell_type": "markdown",
   "metadata": {},
   "source": [
    "# Manual de la nave"
   ]
  },
  {
   "cell_type": "code",
   "execution_count": null,
   "metadata": {},
   "outputs": [],
   "source": [
    "pip install ipywidgets"
   ]
  },
  {
   "cell_type": "code",
   "execution_count": null,
   "metadata": {},
   "outputs": [],
   "source": [
    "import ipywidgets as widgets\n",
    "\n",
    "ignition = widgets.ToggleButton(\n",
    "    value=False,\n",
    "    description='Iniciar Launch',\n",
    "    button_style='success',\n",
    "    tooltip='Engage your Launch',\n",
    "    icon='rocket'\n",
    ")\n",
    "\n",
    "output = widgets.Output()\n",
    "\n",
    "display(ignition, output)\n",
    "\n",
    "def on_value_change(change):\n",
    "    with output:\n",
    "        if change['new'] == True:\n",
    "            print(\"Nave Iniciada!\")\n",
    "        else:   \n",
    "            print(\"Nave Detenida\")\n",
    "\n",
    "ignition.observe(on_value_change, names='value')"
   ]
  },
  {
   "cell_type": "code",
   "execution_count": null,
   "metadata": {},
   "outputs": [],
   "source": [
    "!pip install matplotlib\n",
    "!pip install numpy"
   ]
  },
  {
   "cell_type": "markdown",
   "metadata": {},
   "source": [
    "## Niveles de oxígeno\n",
    "Muestra diez minutos de niveles de oxígeno en tu nave. "
   ]
  },
  {
   "cell_type": "code",
   "execution_count": null,
   "metadata": {},
   "outputs": [],
   "source": [
    "import numpy as np\n",
    "import matplotlib.pyplot as plt\n",
    "data = np.random.default_rng(12345)\n",
    "oxy_nums = data.integers(low=0, high=10, size=10)\n",
    "plt.bar(range(len(oxy_nums)), oxy_nums)\n",
    "plt.show()"
   ]
  },
  {
   "cell_type": "markdown",
   "metadata": {},
   "source": [
    "## Velocidad de la nave\n",
    "Muestra los segundos necesarios para pasar de 0 a 11200 metros por segundo, dada la aceleración de la nave en metros por segundo."
   ]
  },
  {
   "cell_type": "code",
   "execution_count": null,
   "metadata": {},
   "outputs": [],
   "source": [
    "endVelocity = 12000\n",
    "startVelocity = 0\n",
    "acceleration = 120\n",
    "\n",
    "time = (endVelocity - startVelocity) / acceleration\n",
    "print(\"Tiempo para alcanzar la velocidad deseada = \", time)"
   ]
  },
  {
   "cell_type": "markdown",
   "metadata": {},
   "source": [
    "## KATA MODULO 1"
   ]
  },
  {
   "cell_type": "code",
   "execution_count": null,
   "metadata": {},
   "outputs": [],
   "source": [
    "# Importamos la biblioteca \n",
    "from datetime import date\n",
    "# Obtenemos la fecha de hoy\n",
    "date.today()\n",
    "# Mostramos la fecha en la consola\n",
    "print(\"Fecha actual: \" + str(date.today()))"
   ]
  },
  {
   "cell_type": "code",
   "execution_count": null,
   "metadata": {},
   "outputs": [],
   "source": [
    "parsec = 11\n",
    "añosluz = 3.26156 * parsec\n",
    "print(str(parsec) + \" parsec, son \" + str(añosluz) + \" años luz\")"
   ]
  },
  {
   "cell_type": "markdown",
   "metadata": {},
   "source": [
    "## KATA MODULO 2"
   ]
  },
  {
   "cell_type": "markdown",
   "metadata": {},
   "source": [
    "# Solución en imágenes adjuntas\n",
    "# Error1.jpg\n",
    "# Solcucion1.jpg\n",
    "# Error2.jpg\n",
    "# Solcucion2.jpg\n",
    "# Solcucion3"
   ]
  },
  {
   "cell_type": "markdown",
   "metadata": {},
   "source": [
    "## KATA MODULO 3"
   ]
  },
  {
   "cell_type": "code",
   "execution_count": null,
   "metadata": {},
   "outputs": [],
   "source": [
    "vAlerta = 25\n",
    "vAsteroide = 49\n",
    "if (vAsteroide > vAlerta):\n",
    "    print(\"Alertar a la tierra\")\n",
    "else: \n",
    "    print(\"No hay alerta\")"
   ]
  },
  {
   "cell_type": "code",
   "execution_count": null,
   "metadata": {},
   "outputs": [],
   "source": [
    "vAlerta = 20\n",
    "vAsteroide = 19\n",
    "if (vAsteroide > vAlerta):\n",
    "    print(\"Alerta asteroide, luz verde en el cielo\")\n",
    "elif(vAsteroide == vAlerta):\n",
    "    print(\"Alerta asteroide, luz verde en el cielo\")\n",
    "else:\n",
    "    print(\"No hay alerta\")"
   ]
  },
  {
   "cell_type": "code",
   "execution_count": null,
   "metadata": {},
   "outputs": [],
   "source": [
    "tAsteroide = 26\n",
    "vAsteroide = 24\n",
    "if(tAsteroide > 25 and vAsteroide > 25):\n",
    "    print(\"Alerta asteroide\")\n",
    "elif vAsteroide >= 20:\n",
    "    print(\"Luz verde en el cielo\")\n",
    "elif tAsteroide < 25:\n",
    "    print(\"Asteroide desecho por la atmósfera de la tierra\")\n",
    "else:\n",
    "    print(\"No hay alerta\")"
   ]
  },
  {
   "cell_type": "markdown",
   "metadata": {},
   "source": [
    "## KATA MODULO 4"
   ]
  },
  {
   "cell_type": "code",
   "execution_count": null,
   "metadata": {},
   "outputs": [],
   "source": [
    "#text = \"\"\"Interesting facts about the Moon. The Moon is Earth's only satellite. There are several interesting facts about the Moon and how it affects life here on Earth. \n",
    "#On average, the Moon moves 4cm away from the Earth every year. This yearly drift is not significant enough to cause immediate effects on Earth. The highest\n",
    "#\"\"\"\n",
    "\n",
    "text = \"\"\"Datos interesantes sobre la Luna. La Luna es el único satélite de la Tierra. Hay varios datos interesantes sobre la Luna y cómo afecta la vida aquí en la Tierra.\n",
    "En promedio, la Luna se aleja 4 cm de la Tierra cada año. Esta distancia anual no es lo suficientemente significativa como para causar efectos inmediatos en la Tierra. \n",
    "Saber la distancia entre el sol y la tierra, Temperatura de la luna es menor al de la tierra por 10 grados C\"\"\"\n",
    "\n",
    "partes = text.split('. ')\n",
    "print(partes)\n",
    "\n",
    "#palabrasClave = [\"average\", \"temperature\", \"distance\"]\n",
    "#palabrasClave = [\"promedio\"]\n",
    "#palabrasClave = [\"promedio\", \"temperatura\"]\n",
    "palabrasClave = [\"promedio\", \"temperatura\", \"distancia\"]\n",
    "\n",
    "for item in partes:\n",
    "    for palabrasClave in partes:\n",
    "        if palabrasClave in item:\n",
    "            print(item)\n",
    "            break\n",
    "\n",
    "for item in partes:\n",
    "    for palabrasClave in partes:\n",
    "        if palabrasClave in item:\n",
    "            print(item.replace(' C', ' Centigrados'))\n",
    "            break"
   ]
  },
  {
   "cell_type": "code",
   "execution_count": null,
   "metadata": {},
   "outputs": [],
   "source": [
    "nombre = \"Luna\"\n",
    "gravedad = 0.00162\n",
    "planeta = \"Tierra\"\n",
    "\n",
    "titulo = f'datos de gravedad sobre {nombre}'\n",
    "print(titulo)\n",
    "\n",
    "plantilla = f\"\"\"\n",
    "Planeta: {planeta} \n",
    "Gravedad en {nombre}: {gravedad * 1000} m/s2 \n",
    "\"\"\"\n",
    "print(plantilla)\n",
    "\n",
    "nombre = \"Luna\"\n",
    "gravedad = 0.00143\n",
    "planeta = \"Marte\"\n",
    "\n",
    "template2 = \"\"\"\n",
    "Gravedad sobre: {nombre}\n",
    "Nombre planeta: {planeta}\n",
    "Gravedad en {nombre}: {gravedad} m/s2\n",
    "\"\"\"\n",
    "print(template2.format(nombre=nombre, planeta=planeta, gravedad=gravedad*1000))"
   ]
  },
  {
   "cell_type": "markdown",
   "metadata": {},
   "source": [
    "# KATA MODULO 5 "
   ]
  },
  {
   "cell_type": "code",
   "execution_count": null,
   "metadata": {},
   "outputs": [],
   "source": [
    "dTierra = 149597870\n",
    "dJupiter = 778547200\n",
    "diferenciaKM = abs(dTierra - dJupiter)\n",
    "print(diferenciaKM)\n",
    "diferenciaMil = abs(round(diferenciaKM * 0.621))\n",
    "print(diferenciaMil)\n"
   ]
  },
  {
   "cell_type": "code",
   "execution_count": null,
   "metadata": {},
   "outputs": [],
   "source": [
    "dPlaneta1 = input('Ingresa distancia entre planeta 1 y el sol')\n",
    "dPlaneta2 = input('Ingresa distancia entre planeta 2 y el sol')\n",
    "print('Distancia planeta1: ' + dPlaneta1)\n",
    "print('Distancia planeta2: ' + dPlaneta2)\n",
    "diferenciaKM = abs(int(dPlaneta1) - int(dPlaneta2))\n",
    "print('Diferencia en KM: ' + str(diferenciaKM))\n",
    "diferenciaMil = abs(round(diferenciaKM * 0.621))\n",
    "print('Diferencia en Millas: ' + str(diferenciaMil))"
   ]
  },
  {
   "cell_type": "markdown",
   "metadata": {},
   "source": [
    "## KATA MODULO 6"
   ]
  },
  {
   "cell_type": "code",
   "execution_count": 51,
   "metadata": {},
   "outputs": [
    {
     "name": "stdout",
     "output_type": "stream",
     "text": [
      "['Mercurio', 'Venus', 'Tierra', 'Marte', 'Jupiter', 'Saturno', 'Urano', 'Nepturno']\n",
      "Total de planetas: 8\n",
      "['Mercurio', 'Venus', 'Tierra', 'Marte', 'Jupiter', 'Saturno', 'Urano', 'Nepturno', 'Pluton']\n",
      "Total de planetas: 9\n"
     ]
    }
   ],
   "source": [
    "planetas = ['Mercurio', 'Venus', 'Tierra', 'Marte', 'Jupiter', 'Saturno', 'Urano', 'Nepturno']\n",
    "print(planetas)\n",
    "print('Total de planetas: ' + str(len(planetas)))\n",
    "planetas.append('Pluton')\n",
    "print(planetas)\n",
    "print('Total de planetas: ' + str(len(planetas)))\n",
    "\n",
    "#print('El primero planet es', planetas[0])\n",
    "#print('El segundo planet es', planetas[1])\n",
    "#print('El tercer planeta es', planetas[2])\n",
    "\n",
    "#planetas[3] = '\"Planeta Rojo\"'\n",
    "#print('Marte tambiem es conocido como', planetas[3])"
   ]
  },
  {
   "cell_type": "code",
   "execution_count": 53,
   "metadata": {},
   "outputs": [
    {
     "name": "stdout",
     "output_type": "stream",
     "text": [
      "El usuario capturo: Jupiter\n",
      "Los mas cercanos al sol son:\n",
      "['Mercurio', 'Venus', 'Tierra', 'Marte']\n",
      "El planeta posterior a Jupiter es Saturno\n"
     ]
    }
   ],
   "source": [
    "planetas = ['Mercurio', 'Venus', 'Tierra', 'Marte', 'Jupiter', 'Saturno', 'Urano', 'Nepturno']\n",
    "captura = input('Captura el nombre de un planeta')\n",
    "print('El usuario capturo: ' + captura)\n",
    "index =  planetas.index(captura)\n",
    "#print(index)\n",
    "print ('Los planetas más cercanos al sol son:')\n",
    "print(planetas[0:index])\n",
    "planetasDespues = planetas[index+1]\n",
    "print(\"El planeta posterior a \" + captura + \" es \" + planetasDespues)"
   ]
  }
 ],
 "metadata": {
  "interpreter": {
   "hash": "595f7c7018075eb684a09c8e5c5bd864bec099d06c174d8e0e582b3f4e7a4686"
  },
  "kernelspec": {
   "display_name": "Python 3.10.2 64-bit",
   "language": "python",
   "name": "python3"
  },
  "language_info": {
   "codemirror_mode": {
    "name": "ipython",
    "version": 3
   },
   "file_extension": ".py",
   "mimetype": "text/x-python",
   "name": "python",
   "nbconvert_exporter": "python",
   "pygments_lexer": "ipython3",
   "version": "3.10.2"
  },
  "orig_nbformat": 4
 },
 "nbformat": 4,
 "nbformat_minor": 2
}
